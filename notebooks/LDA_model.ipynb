{
 "cells": [
  {
   "cell_type": "markdown",
   "id": "66d50d1b",
   "metadata": {},
   "source": [
    "# Install Dependencies"
   ]
  },
  {
   "cell_type": "code",
   "execution_count": 53,
   "id": "fe0c78c7",
   "metadata": {
    "scrolled": true
   },
   "outputs": [
    {
     "name": "stdout",
     "output_type": "stream",
     "text": [
      "Requirement already satisfied: gensim in /home/user/PycharmProjects/sirius/venv/lib/python3.10/site-packages (4.3.1)\n",
      "Requirement already satisfied: smart-open>=1.8.1 in /home/user/PycharmProjects/sirius/venv/lib/python3.10/site-packages (from gensim) (6.3.0)\n",
      "Requirement already satisfied: scipy>=1.7.0 in /home/user/PycharmProjects/sirius/venv/lib/python3.10/site-packages (from gensim) (1.9.1)\n",
      "Requirement already satisfied: numpy>=1.18.5 in /home/user/PycharmProjects/sirius/venv/lib/python3.10/site-packages (from gensim) (1.23.3)\n",
      "Requirement already satisfied: pyLDAvis in /home/user/PycharmProjects/sirius/venv/lib/python3.10/site-packages (3.4.0)\n",
      "Requirement already satisfied: jinja2 in /home/user/PycharmProjects/sirius/venv/lib/python3.10/site-packages (from pyLDAvis) (3.1.2)\n",
      "Requirement already satisfied: numpy>=1.22.0 in /home/user/PycharmProjects/sirius/venv/lib/python3.10/site-packages (from pyLDAvis) (1.23.3)\n",
      "Requirement already satisfied: scikit-learn>=1.0.0 in /home/user/PycharmProjects/sirius/venv/lib/python3.10/site-packages (from pyLDAvis) (1.0.2)\n",
      "Requirement already satisfied: numexpr in /home/user/PycharmProjects/sirius/venv/lib/python3.10/site-packages (from pyLDAvis) (2.8.4)\n",
      "Requirement already satisfied: funcy in /home/user/PycharmProjects/sirius/venv/lib/python3.10/site-packages (from pyLDAvis) (2.0)\n",
      "Requirement already satisfied: gensim in /home/user/PycharmProjects/sirius/venv/lib/python3.10/site-packages (from pyLDAvis) (4.3.1)\n",
      "Requirement already satisfied: scipy in /home/user/PycharmProjects/sirius/venv/lib/python3.10/site-packages (from pyLDAvis) (1.9.1)\n",
      "Requirement already satisfied: pandas>=1.3.4 in /home/user/PycharmProjects/sirius/venv/lib/python3.10/site-packages (from pyLDAvis) (1.4.2)\n",
      "Requirement already satisfied: setuptools in /home/user/PycharmProjects/sirius/venv/lib/python3.10/site-packages (from pyLDAvis) (60.2.0)\n",
      "Requirement already satisfied: joblib>=1.2.0 in /home/user/PycharmProjects/sirius/venv/lib/python3.10/site-packages (from pyLDAvis) (1.2.0)\n",
      "Requirement already satisfied: python-dateutil>=2.8.1 in /home/user/PycharmProjects/sirius/venv/lib/python3.10/site-packages (from pandas>=1.3.4->pyLDAvis) (2.8.2)\n",
      "Requirement already satisfied: pytz>=2020.1 in /home/user/PycharmProjects/sirius/venv/lib/python3.10/site-packages (from pandas>=1.3.4->pyLDAvis) (2022.2.1)\n",
      "Requirement already satisfied: threadpoolctl>=2.0.0 in /home/user/PycharmProjects/sirius/venv/lib/python3.10/site-packages (from scikit-learn>=1.0.0->pyLDAvis) (3.1.0)\n",
      "Requirement already satisfied: smart-open>=1.8.1 in /home/user/PycharmProjects/sirius/venv/lib/python3.10/site-packages (from gensim->pyLDAvis) (6.3.0)\n",
      "Requirement already satisfied: MarkupSafe>=2.0 in /home/user/PycharmProjects/sirius/venv/lib/python3.10/site-packages (from jinja2->pyLDAvis) (2.1.2)\n",
      "Requirement already satisfied: six>=1.5 in /home/user/PycharmProjects/sirius/venv/lib/python3.10/site-packages (from python-dateutil>=2.8.1->pandas>=1.3.4->pyLDAvis) (1.16.0)\n"
     ]
    }
   ],
   "source": [
    "!pip install gensim\n",
    "!pip install pyLDAvis"
   ]
  },
  {
   "cell_type": "code",
   "execution_count": 54,
   "id": "e3acf600",
   "metadata": {},
   "outputs": [],
   "source": [
    "from sklearn.cluster import KMeans \n",
    "from sklearn.manifold import TSNE\n",
    "from sklearn.decomposition import PCA \n",
    "from sklearn.feature_extraction.text import CountVectorizer\n",
    "from sklearn.decomposition import LatentDirichletAllocation as LDA\n",
    "import numpy as np\n",
    "\n",
    "import re\n",
    "import numpy as np\n",
    "import pandas as pd\n",
    "from pprint import pprint\n",
    "\n",
    "# Gensim\n",
    "import gensim\n",
    "import gensim.corpora as corpora\n",
    "from gensim.utils import simple_preprocess\n",
    "from gensim.models import CoherenceModel\n",
    "\n",
    "# Plotting tools\n",
    "import pyLDAvis\n",
    "import pyLDAvis.gensim\n",
    "import matplotlib.pyplot as plt\n",
    "\n",
    "\n",
    "# Enable logging for gensim - optional\n",
    "import warnings\n",
    "warnings.filterwarnings(\"ignore\", category=DeprecationWarning)\n",
    "warnings.filterwarnings(\"ignore\", category=FutureWarning)\n",
    "\n",
    "import matplotlib.cm as cm\n",
    "import matplotlib.pyplot as plt"
   ]
  },
  {
   "cell_type": "code",
   "execution_count": 55,
   "id": "b4dc5175",
   "metadata": {},
   "outputs": [],
   "source": [
    "FILENAME = \"../data/processed_data/clear_text.txt\"\n",
    "UNREAD_FILENAME = \"../data/processed_data/test_folder/unreadable.txt\"\n",
    "STOPWORDS_FILENAME = \"../data/stopwords.txt\""
   ]
  },
  {
   "cell_type": "code",
   "execution_count": 56,
   "id": "f564e12c",
   "metadata": {},
   "outputs": [],
   "source": [
    "with open(FILENAME, \"r\") as file:\n",
    "    voc = [i.split() for i in file.read().strip().split(\"\\n\")]\n",
    "    \n",
    "with open(UNREAD_FILENAME, \"r\") as file:\n",
    "    unread = file.read()\n",
    "\n",
    "with open(STOPWORDS_FILENAME, \"r\") as file:\n",
    "    stopwords = file.read().strip().split()"
   ]
  },
  {
   "cell_type": "markdown",
   "id": "530c2439",
   "metadata": {},
   "source": [
    "---"
   ]
  },
  {
   "cell_type": "markdown",
   "id": "8a7d63ae",
   "metadata": {},
   "source": [
    "# Scikit-Learn Realization"
   ]
  },
  {
   "cell_type": "code",
   "execution_count": 57,
   "id": "7627a255",
   "metadata": {},
   "outputs": [
    {
     "data": {
      "text/plain": [
       "<645x35353 sparse matrix of type '<class 'numpy.int64'>'\n",
       "\twith 280763 stored elements in Compressed Sparse Row format>"
      ]
     },
     "execution_count": 57,
     "metadata": {},
     "output_type": "execute_result"
    }
   ],
   "source": [
    "with open(FILENAME, \"r\") as file:\n",
    "    vocabulary = file.read().split(\"\\n\")\n",
    "\n",
    "cv = CountVectorizer()\n",
    "dataset = cv.fit_transform(vocabulary)\n",
    "dataset"
   ]
  },
  {
   "cell_type": "code",
   "execution_count": 58,
   "id": "aec59880",
   "metadata": {},
   "outputs": [
    {
     "name": "stdout",
     "output_type": "stream",
     "text": [
      "iteration: 1 of max_iter: 30\n",
      "iteration: 2 of max_iter: 30\n",
      "iteration: 3 of max_iter: 30\n",
      "iteration: 4 of max_iter: 30\n",
      "iteration: 5 of max_iter: 30\n",
      "iteration: 6 of max_iter: 30\n",
      "iteration: 7 of max_iter: 30\n",
      "iteration: 8 of max_iter: 30\n",
      "iteration: 9 of max_iter: 30\n",
      "iteration: 10 of max_iter: 30\n",
      "iteration: 11 of max_iter: 30\n",
      "iteration: 12 of max_iter: 30\n",
      "iteration: 13 of max_iter: 30\n",
      "iteration: 14 of max_iter: 30\n",
      "iteration: 15 of max_iter: 30\n",
      "iteration: 16 of max_iter: 30\n",
      "iteration: 17 of max_iter: 30\n",
      "iteration: 18 of max_iter: 30\n",
      "iteration: 19 of max_iter: 30\n",
      "iteration: 20 of max_iter: 30\n",
      "iteration: 21 of max_iter: 30\n",
      "iteration: 22 of max_iter: 30\n",
      "iteration: 23 of max_iter: 30\n",
      "iteration: 24 of max_iter: 30\n",
      "iteration: 25 of max_iter: 30\n",
      "iteration: 26 of max_iter: 30\n",
      "iteration: 27 of max_iter: 30\n",
      "iteration: 28 of max_iter: 30\n",
      "iteration: 29 of max_iter: 30\n",
      "iteration: 30 of max_iter: 30\n"
     ]
    },
    {
     "data": {
      "text/plain": [
       "LatentDirichletAllocation(max_iter=30, n_jobs=-1, verbose=1)"
      ]
     },
     "execution_count": 58,
     "metadata": {},
     "output_type": "execute_result"
    }
   ],
   "source": [
    "lda = LDA(\n",
    "    n_components = 10,\n",
    "    max_iter=30,\n",
    "    n_jobs=-1,\n",
    "    learning_method='batch',\n",
    "    verbose=1\n",
    ")\n",
    "lda.fit(dataset)"
   ]
  },
  {
   "cell_type": "code",
   "execution_count": 59,
   "id": "20d86753",
   "metadata": {},
   "outputs": [],
   "source": [
    "class TopicModeler(object):\n",
    "    '''\n",
    "    Inteface object for CountVectorizer + LDA simple\n",
    "    usage.\n",
    "    '''\n",
    "    def __init__(self, count_vect, lda):\n",
    "        '''\n",
    "        Args:\n",
    "             count_vect - CountVectorizer object from sklearn.\n",
    "             lda - LDA object from sklearn.\n",
    "        '''\n",
    "        self.lda = lda\n",
    "        self.count_vect = count_vect\n",
    "        self.count_vect.input = 'content'\n",
    "\n",
    "    def __call__(self, text):\n",
    "        '''\n",
    "        Gives topics distribution for a given text\n",
    "        Args:\n",
    "             text - raw text via python string.\n",
    "        returns: numpy array - topics distribution for a given text.\n",
    "        '''\n",
    "        vectorized = self.count_vect.transform([text])\n",
    "        lda_topics = self.lda.transform(vectorized)\n",
    "        return lda_topics\n",
    "    \n",
    "    def get_keywords(self, text, n_topics=3, n_keywords=5):\n",
    "        '''\n",
    "        For a given text gives n top keywords for each of m top texts topics.\n",
    "        Args:\n",
    "             text - raw text via python string.\n",
    "             n_topics - int how many top topics to use.\n",
    "             n_keywords - how many top words of each topic to return.\n",
    "        returns:\n",
    "                list - of m*n keywords for a given text.\n",
    "        '''\n",
    "        lda_topics = self(text)\n",
    "        lda_topics = np.squeeze(lda_topics, axis=0)\n",
    "        n_topics_indices = lda_topics.argsort()[-n_topics:][::-1]\n",
    "\n",
    "        top_topics_words_dists = []\n",
    "        for i in n_topics_indices:\n",
    "            top_topics_words_dists.append(self.lda.components_[i])\n",
    "\n",
    "        shape=(n_keywords*n_topics, self.lda.components_.shape[1])\n",
    "        keywords = np.zeros(shape=shape)\n",
    "        for i,topic in enumerate(top_topics_words_dists):\n",
    "            n_keywords_indices = topic.argsort()[-n_keywords:][::-1]\n",
    "            for k,j in enumerate(n_keywords_indices):\n",
    "                keywords[i * n_keywords + k, j] = 1\n",
    "        keywords = self.count_vect.inverse_transform(keywords)\n",
    "        keywords = [keyword[0] for keyword in keywords]\n",
    "        return keywords  "
   ]
  },
  {
   "cell_type": "code",
   "execution_count": 60,
   "id": "d20f5dda",
   "metadata": {},
   "outputs": [
    {
     "name": "stdout",
     "output_type": "stream",
     "text": [
      "['скважина', 'пласт', 'месторождение', 'нефть', 'жидкость', 'давление', 'бурение', 'разработка', 'колонна', 'раствор']\n"
     ]
    }
   ],
   "source": [
    "tm = TopicModeler(cv, lda)\n",
    "key_words = tm.get_keywords(\" \".join(vocabulary), n_topics=1, n_keywords=10)\n",
    "print(key_words)"
   ]
  },
  {
   "cell_type": "code",
   "execution_count": 61,
   "id": "9b192502",
   "metadata": {
    "scrolled": true
   },
   "outputs": [],
   "source": [
    "term_doc_matrix = cv.transform(vocabulary)\n",
    "embeddings = lda.transform(term_doc_matrix)\n",
    "\n",
    "kmeans = KMeans(n_clusters=30)\n",
    "clust_labels = kmeans.fit_predict(embeddings)\n",
    "clust_centers = kmeans.cluster_centers_\n",
    "\n",
    "embeddings_to_tsne = np.concatenate((embeddings,clust_centers), axis=0)\n",
    "\n",
    "tSNE =  TSNE(n_components=2, perplexity=15)\n",
    "tsne_embeddings = tSNE.fit_transform(embeddings_to_tsne)\n",
    "tsne_embeddings, centroids_embeddings = np.split(tsne_embeddings, [len(clust_labels)], axis=0)"
   ]
  },
  {
   "cell_type": "code",
   "execution_count": 62,
   "id": "cde4b78f",
   "metadata": {},
   "outputs": [
    {
     "name": "stdout",
     "output_type": "stream",
     "text": [
      "(645, 2) (30, 2)\n"
     ]
    }
   ],
   "source": [
    "print(tsne_embeddings.shape,centroids_embeddings.shape)"
   ]
  },
  {
   "cell_type": "code",
   "execution_count": 63,
   "id": "aeb72caf",
   "metadata": {},
   "outputs": [],
   "source": [
    "clust_indices = np.unique(clust_labels)\n",
    "\n",
    "clusters = {clust_ind : [] for clust_ind in clust_indices}\n",
    "for emb, label in zip(tsne_embeddings, clust_labels):\n",
    "    clusters[label].append(emb)\n",
    "\n",
    "for key in clusters.keys():\n",
    "    clusters[key] = np.array(clusters[key])\n",
    "colors = cm.rainbow(np.linspace(0, 1, len(clust_indices)))"
   ]
  },
  {
   "cell_type": "code",
   "execution_count": 64,
   "id": "c87c16c7",
   "metadata": {},
   "outputs": [
    {
     "data": {
      "image/png": "[encoded data removed]",
      "text/plain": [
       "<Figure size 720x720 with 1 Axes>"
      ]
     },
     "metadata": {
      "needs_background": "light"
     },
     "output_type": "display_data"
    }
   ],
   "source": [
    "plt.figure(figsize=(10,10))\n",
    "for ind, color in zip(clust_indices, colors):\n",
    "    x = clusters[ind][:,0]\n",
    "    y = clusters[ind][:,1]\n",
    "    plt.scatter(x, y, color=color)\n",
    "    \n",
    "    centroid = centroids_embeddings[ind]\n",
    "    plt.scatter(centroid[0],centroid[1], color=color, marker='x', s=100)"
   ]
  },
  {
   "cell_type": "markdown",
   "id": "d292401d",
   "metadata": {},
   "source": [
    "---"
   ]
  },
  {
   "cell_type": "markdown",
   "id": "19ddaf81",
   "metadata": {},
   "source": [
    "# Gensim Realization"
   ]
  },
  {
   "cell_type": "code",
   "execution_count": 65,
   "id": "aa9473a1",
   "metadata": {},
   "outputs": [],
   "source": [
    "id2word = corpora.Dictionary(voc)\n",
    "texts = voc\n",
    "corpus = [id2word.doc2bow(text) for text in texts]"
   ]
  },
  {
   "cell_type": "code",
   "execution_count": null,
   "id": "53beb538",
   "metadata": {},
   "outputs": [],
   "source": [
    "lda_model = gensim.models.ldamodel.LdaModel(\n",
    "    corpus=corpus,\n",
    "    id2word=id2word,\n",
    "    num_topics=10, \n",
    "    random_state=100,\n",
    "    update_every=1,\n",
    "    chunksize=100,\n",
    "    passes=10,\n",
    "    alpha='auto',\n",
    "    per_word_topics=True\n",
    ")"
   ]
  },
  {
   "cell_type": "code",
   "execution_count": null,
   "id": "db1d45f3",
   "metadata": {},
   "outputs": [],
   "source": [
    "lda_model.print_topics()"
   ]
  },
  {
   "cell_type": "code",
   "execution_count": null,
   "id": "1cbdb080",
   "metadata": {},
   "outputs": [],
   "source": [
    "pyLDAvis.enable_notebook()\n",
    "vis = pyLDAvis.gensim.prepare(lda_model, corpus, id2word)\n",
    "vis"
   ]
  }
 ],
 "metadata": {
  "kernelspec": {
   "display_name": "Python 3 (ipykernel)",
   "language": "python",
   "name": "python3"
  },
  "language_info": {
   "codemirror_mode": {
    "name": "ipython",
    "version": 3
   },
   "file_extension": ".py",
   "mimetype": "text/x-python",
   "name": "python",
   "nbconvert_exporter": "python",
   "pygments_lexer": "ipython3",
   "version": "3.10.6"
  }
 },
 "nbformat": 4,
 "nbformat_minor": 5
}
